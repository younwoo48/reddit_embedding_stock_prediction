{
 "cells": [
  {
   "cell_type": "code",
   "execution_count": 26,
   "metadata": {},
   "outputs": [
    {
     "name": "stdout",
     "output_type": "stream",
     "text": [
      "\u001b[38;5;2m✔ Download and installation successful\u001b[0m\n",
      "You can now load the package via spacy.load('en_core_web_sm')\n",
      "\u001b[38;5;3m⚠ Restart to reload dependencies\u001b[0m\n",
      "If you are in a Jupyter or Colab notebook, you may need to restart Python in\n",
      "order to load all the package's dependencies. You can do this by selecting the\n",
      "'Restart kernel' or 'Restart runtime' option.\n"
     ]
    }
   ],
   "source": [
    "import pandas as pd\n",
    "import time\n",
    "import datetime\n",
    "import csv\n",
    "import spacy\n",
    "spacy.cli.download(\"en_core_web_sm\")\n",
    "nlp = spacy.load(\"en_core_web_sm\")\n",
    "import text_hammer as th"
   ]
  },
  {
   "cell_type": "code",
   "execution_count": 27,
   "metadata": {},
   "outputs": [],
   "source": [
    "reddit_file_path = 'r_wallstreetbets_posts.csv'"
   ]
  },
  {
   "cell_type": "code",
   "execution_count": 28,
   "metadata": {},
   "outputs": [
    {
     "name": "stderr",
     "output_type": "stream",
     "text": [
      "C:\\Users\\younw\\AppData\\Local\\Temp\\ipykernel_30092\\3198025710.py:1: DtypeWarning: Columns (5,7) have mixed types. Specify dtype option on import or set low_memory=False.\n",
      "  df = pd.read_csv(reddit_file_path)\n"
     ]
    },
    {
     "name": "stdout",
     "output_type": "stream",
     "text": [
      "                                               title        date      time\n",
      "0                          Whats going on with PLTR?  2021-02-16  09:53:12\n",
      "1  Need explanations on Level 2 data for GME, why...  2021-02-16  09:53:09\n",
      "2       XRT is being used as a laundry short machine  2021-02-16  09:52:46\n",
      "3                                          Airlines?  2021-02-16  09:52:45\n",
      "4                                         Buy TRXC 🚀  2021-02-16  09:52:44\n"
     ]
    }
   ],
   "source": [
    "df = pd.read_csv(reddit_file_path)\n",
    "columns_to_keep = ['title', 'created_utc'] \n",
    "\n",
    "df = df[columns_to_keep]\n",
    "df['created_utc'] = pd.to_datetime(df['created_utc'],unit='s')\n",
    "\n",
    "\n",
    "df['date'] = df['created_utc'].dt.date\n",
    "df['time'] = df['created_utc'].dt.time\n",
    "df = df.drop(columns=['created_utc'])\n",
    "print(df.head())\n"
   ]
  },
  {
   "cell_type": "code",
   "execution_count": 29,
   "metadata": {},
   "outputs": [],
   "source": [
    "search_strings = ['tesla', 'TSLA', 'Tesla']\n",
    "\n",
    "# Create a filter mask\n",
    "mask = df['title'].str.contains('|'.join(search_strings), case=False, na=False)\n",
    "\n",
    "# Filter the DataFrame\n",
    "tesla_df = df[mask]\n"
   ]
  },
  {
   "cell_type": "code",
   "execution_count": 30,
   "metadata": {},
   "outputs": [
    {
     "name": "stdout",
     "output_type": "stream",
     "text": [
      "2013-05-09\n",
      "2021-02-16\n"
     ]
    }
   ],
   "source": [
    "print(tesla_df['date'].min())\n",
    "print(tesla_df['date'].max())"
   ]
  },
  {
   "cell_type": "code",
   "execution_count": 31,
   "metadata": {},
   "outputs": [
    {
     "data": {
      "text/html": [
       "<div>\n",
       "<style scoped>\n",
       "    .dataframe tbody tr th:only-of-type {\n",
       "        vertical-align: middle;\n",
       "    }\n",
       "\n",
       "    .dataframe tbody tr th {\n",
       "        vertical-align: top;\n",
       "    }\n",
       "\n",
       "    .dataframe thead th {\n",
       "        text-align: right;\n",
       "    }\n",
       "</style>\n",
       "<table border=\"1\" class=\"dataframe\">\n",
       "  <thead>\n",
       "    <tr style=\"text-align: right;\">\n",
       "      <th></th>\n",
       "      <th>title</th>\n",
       "      <th>date</th>\n",
       "      <th>time</th>\n",
       "    </tr>\n",
       "  </thead>\n",
       "  <tbody>\n",
       "    <tr>\n",
       "      <th>382</th>\n",
       "      <td>Trendies and Tesla’s are gone. Right as we wer...</td>\n",
       "      <td>2021-02-16</td>\n",
       "      <td>05:49:44</td>\n",
       "    </tr>\n",
       "    <tr>\n",
       "      <th>553</th>\n",
       "      <td>If you missed out on Mara and riot last year t...</td>\n",
       "      <td>2021-02-16</td>\n",
       "      <td>04:30:15</td>\n",
       "    </tr>\n",
       "    <tr>\n",
       "      <th>588</th>\n",
       "      <td>Tesla Should Go Bankrupt</td>\n",
       "      <td>2021-02-16</td>\n",
       "      <td>04:17:16</td>\n",
       "    </tr>\n",
       "    <tr>\n",
       "      <th>713</th>\n",
       "      <td>~$1mil loss Tesla pin risk over the weekend 88...</td>\n",
       "      <td>2021-02-16</td>\n",
       "      <td>03:28:43</td>\n",
       "    </tr>\n",
       "    <tr>\n",
       "      <th>723</th>\n",
       "      <td>Fisker FSR - High Level DD - Primed to be Tesl...</td>\n",
       "      <td>2021-02-16</td>\n",
       "      <td>03:23:51</td>\n",
       "    </tr>\n",
       "  </tbody>\n",
       "</table>\n",
       "</div>"
      ],
      "text/plain": [
       "                                                 title        date      time\n",
       "382  Trendies and Tesla’s are gone. Right as we wer...  2021-02-16  05:49:44\n",
       "553  If you missed out on Mara and riot last year t...  2021-02-16  04:30:15\n",
       "588                           Tesla Should Go Bankrupt  2021-02-16  04:17:16\n",
       "713  ~$1mil loss Tesla pin risk over the weekend 88...  2021-02-16  03:28:43\n",
       "723  Fisker FSR - High Level DD - Primed to be Tesl...  2021-02-16  03:23:51"
      ]
     },
     "execution_count": 31,
     "metadata": {},
     "output_type": "execute_result"
    }
   ],
   "source": [
    "tesla_df.head()"
   ]
  },
  {
   "cell_type": "code",
   "execution_count": 32,
   "metadata": {},
   "outputs": [
    {
     "name": "stdout",
     "output_type": "stream",
     "text": [
      "                                                    title        date  \\\n",
      "579386                                 Thoughts on Tesla?  2020-12-31   \n",
      "579399  Finally broke 200k right before year end. Next...  2020-12-31   \n",
      "579430  PLTR soon to moon? 🚀. Here’s a comparison of T...  2020-12-31   \n",
      "579477  How many of you rich Tesla people are waiting ...  2020-12-31   \n",
      "579484             I have 10,000 to put into a Tesla call  2020-12-31   \n",
      "\n",
      "            time  \n",
      "579386  23:33:36  \n",
      "579399  23:09:39  \n",
      "579430  22:26:40  \n",
      "579477  21:19:35  \n",
      "579484  21:11:23  \n"
     ]
    },
    {
     "name": "stderr",
     "output_type": "stream",
     "text": [
      "C:\\Users\\younw\\AppData\\Local\\Packages\\PythonSoftwareFoundation.Python.3.10_qbz5n2kfra8p0\\LocalCache\\local-packages\\Python310\\site-packages\\pandas\\core\\ops\\array_ops.py:73: FutureWarning: Comparison of Timestamp with datetime.date is deprecated in order to match the standard library behavior. In a future version these will be considered non-comparable. Use 'ts == pd.Timestamp(date)' or 'ts.date() == date' instead.\n",
      "  result = libops.scalar_compare(x.ravel(), y, op)\n"
     ]
    }
   ],
   "source": [
    "start_date = pd.to_datetime('2019-01-01')\n",
    "end_date = pd.to_datetime('2020-12-31')\n",
    "\n",
    "# Filter the DataFrame\n",
    "tesla_df = tesla_df[(tesla_df['date'] >= start_date) & (tesla_df['date'] <= end_date)]\n",
    "\n",
    "# Display the first few rows of the filtered DataFrame\n",
    "print(tesla_df.head())"
   ]
  },
  {
   "cell_type": "code",
   "execution_count": 33,
   "metadata": {},
   "outputs": [],
   "source": [
    "def text_preprocessing(df,col_name):\n",
    "    #remove URL\n",
    "    df['processed'] = df[col_name].str.replace(r'http(\\S)+', r'')\n",
    "    df['processed'] = df['processed'].str.replace(r'http ...', r'')\n",
    "    df['processed'] = df['processed'].str.replace(r'http', r'')\n",
    "    df[df['processed'].str.contains(r'http')]\n",
    "   # remove RT, @\n",
    "    df['processed'] = df['processed'].str.replace(r'(RT|rt)[ ]*@[ ]*[\\S]+',r'')\n",
    "    df[df['processed'].str.contains(r'RT[ ]?@')]\n",
    "    df['processed'] = df['processed'].str.replace(r'@[\\S]+',r'')\n",
    "    #remove non-ascii words and characters\n",
    "    df['processed'] = [''.join([i if ord(i) < 128 else '' for i in text]) for text in df['processed']]\n",
    "    df['processed'] = df['processed'].str.replace(r'_[\\S]?',r'')\n",
    "    #remove &, < and >\n",
    "    df['processed'] = df['processed'].str.replace(r'&amp;?',r'and')\n",
    "    df['processed'] = df['processed'].str.replace(r'&lt;',r'<')\n",
    "    df['processed'] = df['processed'].str.replace(r'&gt;',r'>')\n",
    "    # remove extra space\n",
    "    df['processed'] = df['processed'].str.replace(r'[ ]{2, }',r' ')\n",
    "    # insert space between punctuation marks\n",
    "    df['processed'] = df['processed'].str.replace(r'([\\w\\d]+)([^\\w\\d ]+)', r'\\1 \\2')\n",
    "    df['processed'] = df['processed'].str.replace(r'([^\\w\\d ]+)([\\w\\d]+)', r'\\1 \\2')\n",
    "    # lower case and strip white spaces at both ends\n",
    "    df['processed'] = df['processed'].str.lower()\n",
    "    df['processed'] = df['processed'].str.strip()\n",
    "\n",
    "    df['word_count'] = [len(text.split(' ')) for text in df['processed']]\n",
    "    df['word_count'].value_counts()\n",
    "    df = df[df['word_count']>3]\n",
    "    df = df.drop_duplicates(subset=['processed'])\n",
    "\n",
    "    return df"
   ]
  },
  {
   "cell_type": "code",
   "execution_count": 34,
   "metadata": {},
   "outputs": [
    {
     "name": "stderr",
     "output_type": "stream",
     "text": [
      "C:\\Users\\younw\\AppData\\Local\\Temp\\ipykernel_30092\\1471344845.py:3: FutureWarning: The default value of regex will change from True to False in a future version.\n",
      "  df['processed'] = df[col_name].str.replace(r'http(\\S)+', r'')\n",
      "C:\\Users\\younw\\AppData\\Local\\Temp\\ipykernel_30092\\1471344845.py:4: FutureWarning: The default value of regex will change from True to False in a future version.\n",
      "  df['processed'] = df['processed'].str.replace(r'http ...', r'')\n",
      "C:\\Users\\younw\\AppData\\Local\\Temp\\ipykernel_30092\\1471344845.py:8: FutureWarning: The default value of regex will change from True to False in a future version.\n",
      "  df['processed'] = df['processed'].str.replace(r'(RT|rt)[ ]*@[ ]*[\\S]+',r'')\n",
      "C:\\Users\\younw\\AppData\\Local\\Temp\\ipykernel_30092\\1471344845.py:10: FutureWarning: The default value of regex will change from True to False in a future version.\n",
      "  df['processed'] = df['processed'].str.replace(r'@[\\S]+',r'')\n",
      "C:\\Users\\younw\\AppData\\Local\\Temp\\ipykernel_30092\\1471344845.py:13: FutureWarning: The default value of regex will change from True to False in a future version.\n",
      "  df['processed'] = df['processed'].str.replace(r'_[\\S]?',r'')\n",
      "C:\\Users\\younw\\AppData\\Local\\Temp\\ipykernel_30092\\1471344845.py:15: FutureWarning: The default value of regex will change from True to False in a future version.\n",
      "  df['processed'] = df['processed'].str.replace(r'&amp;?',r'and')\n",
      "C:\\Users\\younw\\AppData\\Local\\Temp\\ipykernel_30092\\1471344845.py:19: FutureWarning: The default value of regex will change from True to False in a future version.\n",
      "  df['processed'] = df['processed'].str.replace(r'[ ]{2, }',r' ')\n",
      "C:\\Users\\younw\\AppData\\Local\\Temp\\ipykernel_30092\\1471344845.py:21: FutureWarning: The default value of regex will change from True to False in a future version.\n",
      "  df['processed'] = df['processed'].str.replace(r'([\\w\\d]+)([^\\w\\d ]+)', r'\\1 \\2')\n",
      "C:\\Users\\younw\\AppData\\Local\\Temp\\ipykernel_30092\\1471344845.py:22: FutureWarning: The default value of regex will change from True to False in a future version.\n",
      "  df['processed'] = df['processed'].str.replace(r'([^\\w\\d ]+)([\\w\\d]+)', r'\\1 \\2')\n"
     ]
    }
   ],
   "source": [
    "tesla_df = text_preprocessing(tesla_df,'title')"
   ]
  },
  {
   "cell_type": "code",
   "execution_count": 35,
   "metadata": {},
   "outputs": [],
   "source": [
    "\n",
    "tesla_df = tesla_df.drop(columns='title')"
   ]
  },
  {
   "cell_type": "code",
   "execution_count": 36,
   "metadata": {},
   "outputs": [
    {
     "data": {
      "text/html": [
       "<div>\n",
       "<style scoped>\n",
       "    .dataframe tbody tr th:only-of-type {\n",
       "        vertical-align: middle;\n",
       "    }\n",
       "\n",
       "    .dataframe tbody tr th {\n",
       "        vertical-align: top;\n",
       "    }\n",
       "\n",
       "    .dataframe thead th {\n",
       "        text-align: right;\n",
       "    }\n",
       "</style>\n",
       "<table border=\"1\" class=\"dataframe\">\n",
       "  <thead>\n",
       "    <tr style=\"text-align: right;\">\n",
       "      <th></th>\n",
       "      <th>date</th>\n",
       "      <th>time</th>\n",
       "      <th>processed</th>\n",
       "      <th>word_count</th>\n",
       "    </tr>\n",
       "  </thead>\n",
       "  <tbody>\n",
       "    <tr>\n",
       "      <th>579386</th>\n",
       "      <td>2020-12-31</td>\n",
       "      <td>23:33:36</td>\n",
       "      <td>thoughts on tesla ?</td>\n",
       "      <td>4</td>\n",
       "    </tr>\n",
       "    <tr>\n",
       "      <th>579399</th>\n",
       "      <td>2020-12-31</td>\n",
       "      <td>23:09:39</td>\n",
       "      <td>finally broke 200k right before year end . nex...</td>\n",
       "      <td>68</td>\n",
       "    </tr>\n",
       "    <tr>\n",
       "      <th>579430</th>\n",
       "      <td>2020-12-31</td>\n",
       "      <td>22:26:40</td>\n",
       "      <td>pltr soon to moon ? . heres a comparison of ts...</td>\n",
       "      <td>26</td>\n",
       "    </tr>\n",
       "    <tr>\n",
       "      <th>579477</th>\n",
       "      <td>2020-12-31</td>\n",
       "      <td>21:19:35</td>\n",
       "      <td>how many of you rich tesla people are waiting ...</td>\n",
       "      <td>20</td>\n",
       "    </tr>\n",
       "    <tr>\n",
       "      <th>579484</th>\n",
       "      <td>2020-12-31</td>\n",
       "      <td>21:11:23</td>\n",
       "      <td>i have 10 , 000 to put into a tesla call</td>\n",
       "      <td>11</td>\n",
       "    </tr>\n",
       "  </tbody>\n",
       "</table>\n",
       "</div>"
      ],
      "text/plain": [
       "              date      time  \\\n",
       "579386  2020-12-31  23:33:36   \n",
       "579399  2020-12-31  23:09:39   \n",
       "579430  2020-12-31  22:26:40   \n",
       "579477  2020-12-31  21:19:35   \n",
       "579484  2020-12-31  21:11:23   \n",
       "\n",
       "                                                processed  word_count  \n",
       "579386                                thoughts on tesla ?           4  \n",
       "579399  finally broke 200k right before year end . nex...          68  \n",
       "579430  pltr soon to moon ? . heres a comparison of ts...          26  \n",
       "579477  how many of you rich tesla people are waiting ...          20  \n",
       "579484           i have 10 , 000 to put into a tesla call          11  "
      ]
     },
     "execution_count": 36,
     "metadata": {},
     "output_type": "execute_result"
    }
   ],
   "source": [
    "tesla_df.head()"
   ]
  },
  {
   "cell_type": "code",
   "execution_count": 37,
   "metadata": {},
   "outputs": [
    {
     "name": "stdout",
     "output_type": "stream",
     "text": [
      "DataFrame has been saved to processed_reddits.csv\n"
     ]
    }
   ],
   "source": [
    "output_file_path = 'processed_reddits.csv'\n",
    "\n",
    "# Save the DataFrame to a CSV file\n",
    "tesla_df.to_csv(output_file_path, index=False)\n",
    "\n",
    "print(f\"DataFrame has been saved to {output_file_path}\")"
   ]
  }
 ],
 "metadata": {
  "kernelspec": {
   "display_name": "Python 3",
   "language": "python",
   "name": "python3"
  },
  "language_info": {
   "codemirror_mode": {
    "name": "ipython",
    "version": 3
   },
   "file_extension": ".py",
   "mimetype": "text/x-python",
   "name": "python",
   "nbconvert_exporter": "python",
   "pygments_lexer": "ipython3",
   "version": "3.10.11"
  }
 },
 "nbformat": 4,
 "nbformat_minor": 2
}
